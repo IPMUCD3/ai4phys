{
 "cells": [
  {
   "cell_type": "code",
   "execution_count": 1,
   "metadata": {},
   "outputs": [],
   "source": [
    "import os\n",
    "import numpy as np\n",
    "from pathlib import Path\n",
    "\n",
    "from utils import BOSS_randoms, rh5_hodcatalog, fiducial_cosmology\n",
    "from nbodykit.lab import transform"
   ]
  },
  {
   "cell_type": "code",
   "execution_count": 2,
   "metadata": {},
   "outputs": [],
   "source": [
    "input_dir = f'/mnt/home/bregaldosaintblancard/ceph/simbig/tokyo/'"
   ]
  },
  {
   "cell_type": "code",
   "execution_count": 3,
   "metadata": {},
   "outputs": [],
   "source": [
    "dataset = 'train' # 'train' or 'test'"
   ]
  },
  {
   "cell_type": "code",
   "execution_count": 4,
   "metadata": {},
   "outputs": [],
   "source": [
    "input_train_dir = os.path.join(input_dir, dataset)\n",
    "train_files = sorted(os.listdir(input_train_dir))\n",
    "params = np.loadtxt(os.path.join(input_dir, f'params_{dataset}.txt'))"
   ]
  },
  {
   "cell_type": "code",
   "execution_count": 5,
   "metadata": {},
   "outputs": [],
   "source": [
    "params_ids = params[:, :2].astype(int)\n",
    "params_thetas = params[:, 2:]"
   ]
  },
  {
   "cell_type": "code",
   "execution_count": 6,
   "metadata": {},
   "outputs": [
    {
     "name": "stdout",
     "output_type": "stream",
     "text": [
      "Sim ID:  0\n",
      "Quijote index:  8\n",
      "HOD index:  0\n",
      "Parameters:  [ 3.21500000e-01  5.48700000e-02  6.42900000e-01  1.05310000e+00\n",
      "  7.50900000e-01  1.37224233e+01  3.19915407e-01  1.35114904e+01\n",
      "  1.46053790e+01  7.16793007e-01 -4.12212926e-03  1.74206449e+00\n",
      "  2.93004618e-01  1.43023682e+00]\n"
     ]
    }
   ],
   "source": [
    "sim_id = 0\n",
    "\n",
    "i, j = params_ids[sim_id]\n",
    "theta = params_thetas[sim_id]\n",
    "print(\"Sim ID: \", sim_id)\n",
    "print(\"Quijote index: \", i)\n",
    "print(\"HOD index: \", j)\n",
    "print(\"Parameters: \", theta)\n",
    "\n",
    "# There are 14 parameters ordered as follows:\n",
    "# 5 cosmological parameters: Omega_m, Omega_b, h, n_s, sigma_8\n",
    "# 9 cosmological parameters: log_M_min, sigma_log_M, log_M_0, log_M_1, alpha, A_bias, eta_conc, eta_cen, eta_sat\n",
    "# For more details see arXiv:2211.00723 and arXiv:2211.00660"
   ]
  },
  {
   "cell_type": "code",
   "execution_count": 7,
   "metadata": {},
   "outputs": [],
   "source": [
    "fgal = f'hod.quijote_LH{i}.z0p5.cmass_sgc.v4.{j}.hdf5' if dataset == 'train' else f'hod.quijote_fid{i}.z0p5.cmass_sgc.v4.{j}.hdf5'\n",
    "\n",
    "# read galaxy catalog\n",
    "gals = rh5_hodcatalog(os.path.join(input_train_dir, fgal))\n",
    "\n",
    "# construct corresponding randoms\n",
    "rand = BOSS_randoms(gals, input_dir)"
   ]
  },
  {
   "cell_type": "code",
   "execution_count": 8,
   "metadata": {},
   "outputs": [],
   "source": [
    "# RA, DEC, Z -> 3D\n",
    "cosmo = fiducial_cosmology()\n",
    "galaxy_positions = transform.SkyToCartesian(gals['RA'], gals['DEC'], gals['Z'], cosmo=cosmo)\n",
    "randoms_positions = transform.SkyToCartesian(rand['RA'], rand['DEC'], rand['Z'], cosmo=cosmo)"
   ]
  },
  {
   "cell_type": "code",
   "execution_count": 9,
   "metadata": {},
   "outputs": [],
   "source": [
    "# For conversion to numpy arrays (if needed)\n",
    "galaxy_positions = galaxy_positions.compute()\n",
    "randoms_positions = randoms_positions.compute()"
   ]
  }
 ],
 "metadata": {
  "kernelspec": {
   "display_name": "simbig",
   "language": "python",
   "name": "python3"
  },
  "language_info": {
   "codemirror_mode": {
    "name": "ipython",
    "version": 3
   },
   "file_extension": ".py",
   "mimetype": "text/x-python",
   "name": "python",
   "nbconvert_exporter": "python",
   "pygments_lexer": "ipython3",
   "version": "3.7.11"
  },
  "orig_nbformat": 4
 },
 "nbformat": 4,
 "nbformat_minor": 2
}
