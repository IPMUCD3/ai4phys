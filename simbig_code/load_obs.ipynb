{
 "cells": [
  {
   "cell_type": "code",
   "execution_count": 1,
   "metadata": {},
   "outputs": [],
   "source": [
    "import os\n",
    "import numpy as np\n",
    "from pathlib import Path\n",
    "import bigfile\n",
    "from nbodykit.source.catalog import BigFileCatalog\n",
    "\n",
    "from utils import BOSS_randoms, rh5_hodcatalog, fiducial_cosmology\n",
    "from nbodykit.lab import transform"
   ]
  },
  {
   "cell_type": "code",
   "execution_count": 2,
   "metadata": {},
   "outputs": [],
   "source": [
    "input_dir = f'/mnt/home/bregaldosaintblancard/ceph/simbig/tokyo/'"
   ]
  },
  {
   "cell_type": "code",
   "execution_count": 3,
   "metadata": {},
   "outputs": [
    {
     "name": "stderr",
     "output_type": "stream",
     "text": [
      "/mnt/home/bregaldosaintblancard/miniconda3/envs/simbig/lib/python3.7/site-packages/bigfile/__init__.py:358: FutureWarning: Passing (type, 1) or '1type' as a synonym of type is deprecated; in a future version of numpy, it will be understood as (type, (1,)) / '(1,)type'.\n",
      "  return pyxbigfile.Dataset.__init__(self, file, dtype=dtype, size=size)\n"
     ]
    }
   ],
   "source": [
    "gals = BigFileCatalog(os.path.join(input_dir, 'obs/galaxies_obs.bf'))\n",
    "rand = BigFileCatalog(os.path.join(input_dir, 'obs/randoms_obs.bf'))"
   ]
  },
  {
   "cell_type": "code",
   "execution_count": 4,
   "metadata": {},
   "outputs": [
    {
     "name": "stderr",
     "output_type": "stream",
     "text": [
      "/mnt/home/bregaldosaintblancard/miniconda3/envs/simbig/lib/python3.7/site-packages/bigfile/__init__.py:358: FutureWarning: Passing (type, 1) or '1type' as a synonym of type is deprecated; in a future version of numpy, it will be understood as (type, (1,)) / '(1,)type'.\n",
      "  return pyxbigfile.Dataset.__init__(self, file, dtype=dtype, size=size)\n"
     ]
    }
   ],
   "source": [
    "# RA, DEC, Z -> 3D\n",
    "cosmo = fiducial_cosmology()\n",
    "galaxy_positions = transform.SkyToCartesian(gals['RA'], gals['DEC'], gals['Z'], cosmo=cosmo)\n",
    "randoms_positions = transform.SkyToCartesian(rand['RA'], rand['DEC'], rand['Z'], cosmo=cosmo)"
   ]
  },
  {
   "cell_type": "code",
   "execution_count": 5,
   "metadata": {},
   "outputs": [
    {
     "name": "stderr",
     "output_type": "stream",
     "text": [
      "/mnt/home/bregaldosaintblancard/miniconda3/envs/simbig/lib/python3.7/site-packages/bigfile/__init__.py:358: FutureWarning: Passing (type, 1) or '1type' as a synonym of type is deprecated; in a future version of numpy, it will be understood as (type, (1,)) / '(1,)type'.\n",
      "  return pyxbigfile.Dataset.__init__(self, file, dtype=dtype, size=size)\n"
     ]
    }
   ],
   "source": [
    "# For conversion to numpy arrays (if needed)\n",
    "galaxy_positions = galaxy_positions.compute()\n",
    "randoms_positions = randoms_positions.compute()"
   ]
  }
 ],
 "metadata": {
  "kernelspec": {
   "display_name": "simbig",
   "language": "python",
   "name": "python3"
  },
  "language_info": {
   "codemirror_mode": {
    "name": "ipython",
    "version": 3
   },
   "file_extension": ".py",
   "mimetype": "text/x-python",
   "name": "python",
   "nbconvert_exporter": "python",
   "pygments_lexer": "ipython3",
   "version": "3.7.11"
  },
  "orig_nbformat": 4
 },
 "nbformat": 4,
 "nbformat_minor": 2
}
