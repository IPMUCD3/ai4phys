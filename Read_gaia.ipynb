{
 "cells": [
  {
   "cell_type": "markdown",
   "metadata": {},
   "source": [
    "# Read Gaia data"
   ]
  },
  {
   "cell_type": "code",
   "execution_count": 1,
   "metadata": {},
   "outputs": [],
   "source": [
    "import os, sys\n",
    "import matplotlib.pyplot as plt\n",
    "import h5py\n",
    "import numpy as np"
   ]
  },
  {
   "cell_type": "code",
   "execution_count": 2,
   "metadata": {},
   "outputs": [],
   "source": [
    "f_train = h5py.File(\"gaia_star_spec.hdf5\", \"r\")\n",
    "\n",
    "wavelength = f_train['raw']['wavelength'][()]\n",
    "bp_design_matrices = f_train['raw']['bp_design_matrices'][()]\n",
    "rp_design_matrices = f_train['raw']['rp_design_matrices'][()]\n",
    "bp_merge = f_train['raw']['bp_merge'][()]\n",
    "rp_merge = f_train['raw']['rp_merge'][()]\n",
    "\n",
    "# Blue Photometer (BP) and Red Photometer (RP) aboard the Gaia spacecraft\n",
    "# Gaia XP spectra were released as a set of 110 coefficients \n",
    "# of an orthogonal basis function expansion of the spectrum, \n",
    "# where lower-order coefficients explain large-scale features of the spectra \n",
    "# (thus, information like 𝑇eff ) \n",
    "# and higher-order coefficients explain small-scale features including the noise.\n",
    "# The data from each photometer has its own expansion, so there are 55 BP coefficients and 55 RP coefficients.\n",
    "xp_coeffs_gnorm = f_train['raw']['xp_coeffs_gnorm'][()]\n",
    "xp_coeffs_gnorm_err = f_train['raw']['xp_coeffs_gnorm_err'][()]\n",
    "\n",
    "# parallax\n",
    "parallax = f_train['raw']['parallax'][()] # parallax [mas]\n",
    "parallax_err = f_train['raw']['parallax_err'][()]\n",
    "\n",
    "# physical parameters\n",
    "logg = f_train['raw']['logg'][()] # surface gravity \n",
    "logg_err = f_train['raw']['logg_err'][()]\n",
    "m_h = f_train['raw']['m_h'][()] # metallicity [M/H]\n",
    "m_h_err = f_train['raw']['m_h_err'][()]\n",
    "teff = f_train['raw']['teff'][()] # surface temperature [K]\n",
    "teff_err = f_train['raw']['teff_err'][()]\n"
   ]
  },
  {
   "cell_type": "code",
   "execution_count": 3,
   "metadata": {},
   "outputs": [],
   "source": [
    "ith = 1000\n",
    "bp_coeffs = xp_coeffs_gnorm[ith][:55]\n",
    "rp_coeffs = xp_coeffs_gnorm[ith][55:]\n",
    "\n",
    "bp_spec = bp_coeffs.dot(bp_design_matrices)\n",
    "rp_spec = rp_coeffs.dot(rp_design_matrices)\n",
    "\n",
    "spec = np.add(np.multiply(bp_spec, bp_merge), np.multiply(rp_spec, rp_merge))"
   ]
  },
  {
   "cell_type": "code",
   "execution_count": 4,
   "metadata": {},
   "outputs": [
    {
     "data": {
      "text/plain": [
       "(392.0, 992.0)"
      ]
     },
     "execution_count": 4,
     "metadata": {},
     "output_type": "execute_result"
    },
    {
     "data": {
      "image/png": "[encoded data removed]",
      "text/plain": [
       "<Figure size 432x288 with 1 Axes>"
      ]
     },
     "metadata": {
      "needs_background": "light"
     },
     "output_type": "display_data"
    }
   ],
   "source": [
    "plt.plot(wavelength, spec)\n",
    "plt.xlabel(\"Wavelength (nm)\")\n",
    "plt.ylabel(\"Flux (Arbitrary)\") # Flux normalized by the G-band apparent flux\n",
    "plt.xlim(392, 992)"
   ]
  },
  {
   "cell_type": "code",
   "execution_count": null,
   "metadata": {},
   "outputs": [],
   "source": []
  }
 ],
 "metadata": {
  "kernelspec": {
   "display_name": "Python 3 (ipykernel)",
   "language": "python",
   "name": "python3"
  },
  "language_info": {
   "codemirror_mode": {
    "name": "ipython",
    "version": 3
   },
   "file_extension": ".py",
   "mimetype": "text/x-python",
   "name": "python",
   "nbconvert_exporter": "python",
   "pygments_lexer": "ipython3",
   "version": "3.7.16"
  }
 },
 "nbformat": 4,
 "nbformat_minor": 2
}
